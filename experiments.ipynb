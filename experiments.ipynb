{
  "nbformat": 4,
  "nbformat_minor": 0,
  "metadata": {
    "colab": {
      "provenance": []
    },
    "kernelspec": {
      "name": "python3",
      "display_name": "Python 3"
    },
    "language_info": {
      "name": "python"
    }
  },
  "cells": [
    {
      "cell_type": "code",
      "source": [
        "# Creates the folder kemenyGPU\n",
        "!git clone https://github.com/noeliarico/kemenyGPU"
      ],
      "metadata": {
        "colab": {
          "base_uri": "https://localhost:8080/"
        },
        "id": "P8ViBdgasoYN",
        "outputId": "b54a34e6-6dec-4545-84b0-04d03f3ebd24"
      },
      "execution_count": 1,
      "outputs": [
        {
          "output_type": "stream",
          "name": "stdout",
          "text": [
            "fatal: destination path 'kemenyGPU' already exists and is not an empty directory.\n"
          ]
        }
      ]
    },
    {
      "cell_type": "code",
      "source": [
        "from numba import cuda\n",
        "import numpy as np\n",
        "import math\n",
        "import time"
      ],
      "metadata": {
        "id": "c9uwv2IGVtxA"
      },
      "execution_count": 1,
      "outputs": []
    },
    {
      "cell_type": "code",
      "source": [
        "# create an array of dimension factorial(n) x n (initially empty)\n",
        "# to store in each i-th row the factorial representation of i\n",
        "stride = 4000000\n",
        "# to store the rankings and factorial representations\n",
        "# factoradic = np.zeros((stride,n), dtype=np.int64)\n",
        "# d_factoradic = cuda.to_device(factoradic)\n",
        "d_factoradic = cuda.device_array((stride,n), dtype=np.uint8)\n",
        "# to store the boolean and factorial representations\n",
        "# alternatives = np.zeros((stride,n), dtype=np.bool_)\n",
        "# d_alternatives = cuda.to_device(alternatives)\n",
        "d_alternatives = cuda.device_array((stride,n), dtype=np.bool_)\n",
        "\n",
        "\n",
        "threadsperblock = 256\n",
        "blockspergrid = math.ceil(stride / threadsperblock)\n",
        "logging.debug(\"threadsperblock = {}, blockspergrid = {}, total = {}\".format(threadsperblock, blockspergrid, threadsperblock*blockspergrid))\n",
        "best_dist = np.array([10000]) \n",
        "d_best_dist = cuda.to_device(best_dist)\n",
        "best_ranking = np.array([0], dtype=np.uint64) \n",
        "d_best_ranking = cuda.to_device(best_ranking)\n",
        "single = False\n",
        "total = math.factorial(n)\n",
        "start = time.time()\n",
        "distance_from_ranking_to_profile_gpu[blockspergrid, threadsperblock](d_factoradic, d_alternatives, om, stride, total, d_best_dist, d_best_ranking)\n",
        "\n",
        "\n",
        "d_best_dist.copy_to_host(best_dist)\n",
        "d_best_ranking.copy_to_host(best_ranking)\n",
        "end = time.time()\n",
        "logging.debug(\"Execution time: {}\".format(end-start))\n",
        "logging.debug(best_dist)\n",
        "logging.debug(best_ranking)"
      ],
      "metadata": {
        "id": "LpUHb7NCVlfL"
      },
      "execution_count": null,
      "outputs": []
    }
  ]
}