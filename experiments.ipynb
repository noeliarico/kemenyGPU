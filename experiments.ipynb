{
  "nbformat": 4,
  "nbformat_minor": 0,
  "metadata": {
    "colab": {
      "provenance": []
    },
    "kernelspec": {
      "name": "python3",
      "display_name": "Python 3"
    },
    "language_info": {
      "name": "python"
    },
    "accelerator": "GPU",
    "gpuClass": "standard"
  },
  "cells": [
    {
      "cell_type": "code",
      "source": [
        "# Creates the folder kemenyGPU\n",
        "!git clone https://github.com/noeliarico/kemenyGPU"
      ],
      "metadata": {
        "colab": {
          "base_uri": "https://localhost:8080/"
        },
        "id": "P8ViBdgasoYN",
        "outputId": "3201ba1f-eb61-47a0-9c88-8b93e1e1ad05"
      },
      "execution_count": 1,
      "outputs": [
        {
          "output_type": "stream",
          "name": "stdout",
          "text": [
            "Cloning into 'kemenyGPU'...\n",
            "remote: Enumerating objects: 49, done.\u001b[K\n",
            "remote: Counting objects: 100% (49/49), done.\u001b[K\n",
            "remote: Compressing objects: 100% (39/39), done.\u001b[K\n",
            "remote: Total 49 (delta 23), reused 27 (delta 7), pack-reused 0\u001b[K\n",
            "Unpacking objects: 100% (49/49), done.\n"
          ]
        }
      ]
    },
    {
      "cell_type": "code",
      "source": [
        "from numba import cuda\n",
        "import numpy as np\n",
        "import math\n",
        "import time\n",
        "import logging\n",
        "logging.getLogger().setLevel(logging.INFO)"
      ],
      "metadata": {
        "id": "c9uwv2IGVtxA"
      },
      "execution_count": 33,
      "outputs": []
    },
    {
      "cell_type": "code",
      "source": [
        "execfile('kemenyGPU/v1.py')\n",
        "execfile('kemenyGPU/v2.py')\n",
        "execfile('kemenyGPU/v2d.py')\n",
        "execfile('kemenyGPU/v3.py')\n",
        "execfile('kemenyGPU/oms.py')"
      ],
      "metadata": {
        "id": "htb4LARhW8ey"
      },
      "execution_count": 34,
      "outputs": []
    },
    {
      "cell_type": "code",
      "source": [
        "om = om12\n",
        "n = 12\n",
        "m = 10"
      ],
      "metadata": {
        "id": "HXf_yWFDXl8X"
      },
      "execution_count": 121,
      "outputs": []
    },
    {
      "cell_type": "markdown",
      "source": [
        "# Execution time `v1`\n",
        "\n",
        "- `n = 11`: [0.12]\n",
        "- `n = 12`: [0.82]\n",
        "- `n = 13`: [12.81]\n",
        "- `n = 14`: [214] "
      ],
      "metadata": {
        "id": "GHy9be22JQ7s"
      }
    },
    {
      "cell_type": "code",
      "source": [
        "stride = 4000000\n",
        "\n",
        "# create an array of dimension stride x n (initially empty)\n",
        "# to store the rankings and factorial representations\n",
        "d_factoradic = cuda.device_array((stride,n), dtype=np.uint8)\n",
        "\n",
        "# to store the boolean and factorial representations\n",
        "d_alternatives = cuda.device_array((stride,n), dtype=np.bool_)\n",
        "\n",
        "threadsperblock = 256\n",
        "blockspergrid = math.ceil(stride / threadsperblock)\n",
        "logging.info(\"threadsperblock = {}, blockspergrid = {}, total = {}\".format(threadsperblock, blockspergrid, threadsperblock*blockspergrid))\n",
        "\n",
        "# array of one position to store the best distance\n",
        "best_dist = np.array([(n*n-n)/2]) # initiallize with upper bound\n",
        "# move the value to the gpu\n",
        "d_best_dist = cuda.to_device(best_dist)\n",
        "# move the value to the gpu\n",
        "best_ranking = np.array([0], dtype=np.uint64) \n",
        "d_best_ranking = cuda.to_device(best_ranking)\n",
        "# single = False\n",
        "total = math.factorial(n)\n",
        "\n",
        "start = time.time()\n",
        "v1[blockspergrid, threadsperblock](d_factoradic, d_alternatives, om, stride, total, d_best_dist, d_best_ranking)\n",
        "d_best_dist.copy_to_host(best_dist)\n",
        "d_best_ranking.copy_to_host(best_ranking)\n",
        "end = time.time()\n",
        "\n",
        "\n",
        "logging.info(\"Execution time: {}\".format(end-start))\n",
        "\n",
        "factoradic = d_factoradic.copy_to_host()\n",
        "print(factoradic[:26, :])\n",
        "logging.info(best_dist)\n",
        "logging.info(best_ranking)"
      ],
      "metadata": {
        "id": "LpUHb7NCVlfL",
        "outputId": "21ba0e55-117a-4888-9eb3-5261ed29dd0c",
        "colab": {
          "base_uri": "https://localhost:8080/"
        }
      },
      "execution_count": 125,
      "outputs": [
        {
          "output_type": "stream",
          "name": "stderr",
          "text": [
            "INFO:root:threadsperblock = 256, blockspergrid = 15625, total = 4000000\n",
            "INFO:numba.cuda.cudadrv.driver:add pending dealloc: cuMemFree_v2 48000000 bytes\n",
            "INFO:numba.cuda.cudadrv.driver:add pending dealloc: cuMemFree_v2 48000000 bytes\n",
            "INFO:numba.cuda.cudadrv.driver:add pending dealloc: cuMemFree_v2 8 bytes\n",
            "INFO:numba.cuda.cudadrv.driver:add pending dealloc: cuMemFree_v2 8 bytes\n",
            "INFO:numba.cuda.cudadrv.driver:add pending dealloc: cuMemFree_v2 1152 bytes\n",
            "INFO:root:Execution time: 0.9391634464263916\n",
            "INFO:root:[66.]\n",
            "INFO:root:[0]\n"
          ]
        },
        {
          "output_type": "stream",
          "name": "stdout",
          "text": [
            "[[11 10  1  7  5  4  0  8  3  6  2  9]\n",
            " [11 10  1  7  5  4  0  8  3  6  9  2]\n",
            " [11 10  1  7  5  4  0  8  3  9  2  6]\n",
            " [11 10  1  7  5  4  0  8  3  9  6  2]\n",
            " [11 10  1  7  5  4  0  8  6  2  3  9]\n",
            " [11 10  1  7  5  4  0  8  6  2  9  3]\n",
            " [11 10  1  7  5  4  0  8  6  3  2  9]\n",
            " [11 10  1  7  5  4  0  8  6  3  9  2]\n",
            " [11 10  1  7  5  4  0  8  6  9  2  3]\n",
            " [11 10  1  7  5  4  0  8  6  9  3  2]\n",
            " [11 10  1  7  5  4  0  8  9  2  3  6]\n",
            " [11 10  1  7  5  4  0  8  9  2  6  3]\n",
            " [11 10  1  7  5  4  0  8  9  3  2  6]\n",
            " [11 10  1  7  5  4  0  8  9  3  6  2]\n",
            " [11 10  1  7  5  4  0  8  9  6  2  3]\n",
            " [11 10  1  7  5  4  0  8  9  6  3  2]\n",
            " [11 10  1  7  5  4  0  9  2  3  6  8]\n",
            " [11 10  1  7  5  4  0  9  2  3  8  6]\n",
            " [11 10  1  7  5  4  0  9  2  6  3  8]\n",
            " [11 10  1  7  5  4  0  9  2  6  8  3]\n",
            " [11 10  1  7  5  4  0  9  2  8  3  6]\n",
            " [11 10  1  7  5  4  0  9  2  8  6  3]\n",
            " [11 10  1  7  5  4  0  9  3  2  6  8]\n",
            " [11 10  1  7  5  4  0  9  3  2  8  6]\n",
            " [11 10  1  7  5  4  0  9  3  6  2  8]\n",
            " [11 10  1  7  5  4  0  9  3  6  8  2]]\n"
          ]
        }
      ]
    },
    {
      "cell_type": "markdown",
      "source": [
        "# Execution time `v2`\n",
        "\n",
        "In this case each thread keeps the local minimum. This reduces the execution time because reduces the number of atomical accesses\n",
        "\n",
        "- `n = 11`: [0.11]\n",
        "- `n = 12`: [0.91]\n",
        "- `n = 13`: [12.81]\n",
        "- `n = 14`: [213] "
      ],
      "metadata": {
        "id": "wmblTMdAJWzF"
      }
    },
    {
      "cell_type": "code",
      "source": [
        "# create an array of dimension factorial(n) x n (initially empty)\n",
        "# to store in each i-th row the factorial representation of i\n",
        "stride = 4000000\n",
        "# to store the rankings and factorial representations\n",
        "# factoradic = np.zeros((stride,n), dtype=np.int64)\n",
        "# d_factoradic = cuda.to_device(factoradic)\n",
        "d_factoradic = cuda.device_array((stride,n), dtype=np.uint8)\n",
        "# to store the boolean and factorial representations\n",
        "# alternatives = np.zeros((stride,n), dtype=np.bool_)\n",
        "# d_alternatives = cuda.to_device(alternatives)\n",
        "d_alternatives = cuda.device_array((stride,n), dtype=np.bool_)\n",
        "\n",
        "\n",
        "threadsperblock = 512\n",
        "blockspergrid = math.ceil(stride / threadsperblock)\n",
        "logging.info(\"threadsperblock = {}, blockspergrid = {}, total = {}\".format(threadsperblock, blockspergrid, threadsperblock*blockspergrid))\n",
        "best_dist = np.array([10000]) \n",
        "d_best_dist = cuda.to_device(best_dist)\n",
        "best_ranking = np.array([0], dtype=np.uint64) \n",
        "d_best_ranking = cuda.to_device(best_ranking)\n",
        "single = False\n",
        "\n",
        "total = math.factorial(n)\n",
        "\n",
        "start = time.time()\n",
        "v2[blockspergrid, threadsperblock](d_factoradic, d_alternatives, om, stride, total, d_best_dist, d_best_ranking)\n",
        "\n",
        "\n",
        "d_best_dist.copy_to_host(best_dist)\n",
        "d_best_ranking.copy_to_host(best_ranking)\n",
        "\n",
        "factoradic = d_factoradic.copy_to_host()\n",
        "print(factoradic[:26, :])\n",
        "\n",
        "end = time.time()\n",
        "logging.info(\"Execution time: {}\".format(end-start))\n",
        "logging.info(best_dist)\n",
        "logging.info(best_ranking)"
      ],
      "metadata": {
        "id": "FPrejRtrLP1Q",
        "outputId": "fae1de37-2042-42c8-d08c-9facf6a20806",
        "colab": {
          "base_uri": "https://localhost:8080/"
        }
      },
      "execution_count": 124,
      "outputs": [
        {
          "output_type": "stream",
          "name": "stderr",
          "text": [
            "INFO:root:threadsperblock = 512, blockspergrid = 7813, total = 4000256\n",
            "INFO:numba.cuda.cudadrv.driver:add pending dealloc: cuMemFree_v2 4800000 bytes\n",
            "INFO:numba.cuda.cudadrv.driver:add pending dealloc: cuMemFree_v2 8 bytes\n",
            "INFO:numba.cuda.cudadrv.driver:add pending dealloc: cuMemFree_v2 8 bytes\n",
            "INFO:numba.cuda.cudadrv.driver:add pending dealloc: cuMemFree_v2 1152 bytes\n",
            "INFO:root:Execution time: 0.9731216430664062\n",
            "INFO:root:[275]\n",
            "INFO:root:[517423]\n"
          ]
        },
        {
          "output_type": "stream",
          "name": "stdout",
          "text": [
            "[[11 10  1  7  5  4  0  8  3  6  2  9]\n",
            " [11 10  1  7  5  4  0  8  3  6  9  2]\n",
            " [11 10  1  7  5  4  0  8  3  9  2  6]\n",
            " [11 10  1  7  5  4  0  8  3  9  6  2]\n",
            " [11 10  1  7  5  4  0  8  6  2  3  9]\n",
            " [11 10  1  7  5  4  0  8  6  2  9  3]\n",
            " [11 10  1  7  5  4  0  8  6  3  2  9]\n",
            " [11 10  1  7  5  4  0  8  6  3  9  2]\n",
            " [11 10  1  7  5  4  0  8  6  9  2  3]\n",
            " [11 10  1  7  5  4  0  8  6  9  3  2]\n",
            " [11 10  1  7  5  4  0  8  9  2  3  6]\n",
            " [11 10  1  7  5  4  0  8  9  2  6  3]\n",
            " [11 10  1  7  5  4  0  8  9  3  2  6]\n",
            " [11 10  1  7  5  4  0  8  9  3  6  2]\n",
            " [11 10  1  7  5  4  0  8  9  6  2  3]\n",
            " [11 10  1  7  5  4  0  8  9  6  3  2]\n",
            " [11 10  1  7  5  4  0  9  2  3  6  8]\n",
            " [11 10  1  7  5  4  0  9  2  3  8  6]\n",
            " [11 10  1  7  5  4  0  9  2  6  3  8]\n",
            " [11 10  1  7  5  4  0  9  2  6  8  3]\n",
            " [11 10  1  7  5  4  0  9  2  8  3  6]\n",
            " [11 10  1  7  5  4  0  9  2  8  6  3]\n",
            " [11 10  1  7  5  4  0  9  3  2  6  8]\n",
            " [11 10  1  7  5  4  0  9  3  2  8  6]\n",
            " [11 10  1  7  5  4  0  9  3  6  2  8]\n",
            " [11 10  1  7  5  4  0  9  3  6  8  2]]\n"
          ]
        }
      ]
    },
    {
      "cell_type": "markdown",
      "source": [
        "# Execution time `v3`\n",
        "\n",
        "Se devuelve la primera columna de la estructura que se usa para los factoriales y luego en la cpu se reduce el mínimo"
      ],
      "metadata": {
        "id": "tgu6besXJX9S"
      }
    },
    {
      "cell_type": "code",
      "source": [
        "# create an array of dimension factorial(n) x n (initially empty)\n",
        "# to store in each i-th row the factorial representation of i\n",
        "stride = 400000 # con un 0 menos no funciona porque salen mal las permutaciones \n",
        "\n",
        "# to store the rankings and factorial representations\n",
        "# factoradic = np.zeros((stride,n), dtype=np.int64)\n",
        "# d_factoradic = cuda.to_device(factoradic)\n",
        "d_factoradic = cuda.device_array((stride,n), dtype=np.uint8)\n",
        "# to store the boolean and factorial representations\n",
        "# alternatives = np.zeros((stride,n), dtype=np.bool_)\n",
        "# d_alternatives = cuda.to_device(alternatives)\n",
        "d_alternatives = cuda.device_array((stride,n), dtype=np.bool_)\n",
        "\n",
        "\n",
        "threadsperblock = 512\n",
        "blockspergrid = math.ceil(stride / threadsperblock)\n",
        "logging.info(\"threadsperblock = {}, blockspergrid = {}, total = {}\".format(threadsperblock, blockspergrid, threadsperblock*blockspergrid))\n",
        "\n",
        "total = math.factorial(n)\n",
        "\n",
        "start = time.time()\n",
        "v3[blockspergrid, threadsperblock](d_factoradic, d_alternatives, om, stride, total)\n",
        "\n",
        "end = time.time()\n",
        "\n",
        "#factoradic = d_factoradic.copy_to_host()\n",
        "\n",
        "col = d_factoradic[:, 0]\n",
        "dists = col.copy_to_host()\n",
        "print(np.min(dists))\n",
        "\n",
        "\n",
        "#print(factoradic[:26,:])\n",
        "#print(dists[:total])\n",
        "\n",
        "#end = time.time()\n",
        "\n",
        "\n",
        "logging.info(\"Execution time: {}\".format(end-start))\n",
        "#print(dists[:26])"
      ],
      "metadata": {
        "id": "DkqLvSXOJV5P",
        "outputId": "bb27c577-c6c3-413c-ee21-60a1b7a1ac98",
        "colab": {
          "base_uri": "https://localhost:8080/"
        }
      },
      "execution_count": 123,
      "outputs": [
        {
          "output_type": "stream",
          "name": "stderr",
          "text": [
            "INFO:root:threadsperblock = 512, blockspergrid = 782, total = 400384\n",
            "INFO:numba.cuda.cudadrv.driver:add pending dealloc: cuMemFree_v2 4800000 bytes\n",
            "INFO:numba.cuda.cudadrv.driver:add pending dealloc: cuMemFree_v2 1152 bytes\n",
            "INFO:root:Execution time: 0.937018632888794\n"
          ]
        },
        {
          "output_type": "stream",
          "name": "stdout",
          "text": [
            "19\n"
          ]
        }
      ]
    },
    {
      "cell_type": "code",
      "source": [
        "import sys\n",
        "np.set_printoptions(threshold=sys.maxsize)"
      ],
      "metadata": {
        "id": "GtD8QgIgTEoQ"
      },
      "execution_count": 90,
      "outputs": []
    }
  ]
}