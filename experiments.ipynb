{
  "nbformat": 4,
  "nbformat_minor": 0,
  "metadata": {
    "colab": {
      "provenance": []
    },
    "kernelspec": {
      "name": "python3",
      "display_name": "Python 3"
    },
    "language_info": {
      "name": "python"
    }
  },
  "cells": [
    {
      "cell_type": "code",
      "source": [
        "# Creates the folder kemenyGPU\n",
        "!git clone https://github.com/noeliarico/kemenyGPU"
      ],
      "metadata": {
        "colab": {
          "base_uri": "https://localhost:8080/"
        },
        "id": "P8ViBdgasoYN",
        "outputId": "d8495de4-f742-4b5f-8cd8-49c2a2401abd"
      },
      "execution_count": 1,
      "outputs": [
        {
          "output_type": "stream",
          "name": "stdout",
          "text": [
            "fatal: destination path 'kemenyGPU' already exists and is not an empty directory.\n"
          ]
        }
      ]
    },
    {
      "cell_type": "code",
      "source": [
        "execfile('kemenyGPU/v1.py')"
      ],
      "metadata": {
        "id": "htb4LARhW8ey",
        "outputId": "9cb403ed-b8ba-4241-a72d-c74ef5adf4b0",
        "colab": {
          "base_uri": "https://localhost:8080/",
          "height": 315
        }
      },
      "execution_count": 2,
      "outputs": [
        {
          "output_type": "error",
          "ename": "FileNotFoundError",
          "evalue": "ignored",
          "traceback": [
            "\u001b[0;31m---------------------------------------------------------------------------\u001b[0m",
            "\u001b[0;31mFileNotFoundError\u001b[0m                         Traceback (most recent call last)",
            "\u001b[0;32m<ipython-input-2-31cd18fb0682>\u001b[0m in \u001b[0;36m<module>\u001b[0;34m\u001b[0m\n\u001b[0;32m----> 1\u001b[0;31m \u001b[0mexecfile\u001b[0m\u001b[0;34m(\u001b[0m\u001b[0;34m'kemenyGPU/v1.py'\u001b[0m\u001b[0;34m)\u001b[0m\u001b[0;34m\u001b[0m\u001b[0;34m\u001b[0m\u001b[0m\n\u001b[0m",
            "\u001b[0;32m/usr/local/lib/python3.7/dist-packages/debugpy/_vendored/pydevd/_pydev_imps/_pydev_execfile.py\u001b[0m in \u001b[0;36mexecfile\u001b[0;34m(file, glob, loc)\u001b[0m\n\u001b[1;32m     12\u001b[0m     \u001b[0;32mif\u001b[0m \u001b[0mhasattr\u001b[0m\u001b[0;34m(\u001b[0m\u001b[0mtokenize\u001b[0m\u001b[0;34m,\u001b[0m \u001b[0;34m'open'\u001b[0m\u001b[0;34m)\u001b[0m\u001b[0;34m:\u001b[0m\u001b[0;34m\u001b[0m\u001b[0;34m\u001b[0m\u001b[0m\n\u001b[1;32m     13\u001b[0m         \u001b[0;31m# version 3.2\u001b[0m\u001b[0;34m\u001b[0m\u001b[0;34m\u001b[0m\u001b[0;34m\u001b[0m\u001b[0m\n\u001b[0;32m---> 14\u001b[0;31m         \u001b[0mstream\u001b[0m \u001b[0;34m=\u001b[0m \u001b[0mtokenize\u001b[0m\u001b[0;34m.\u001b[0m\u001b[0mopen\u001b[0m\u001b[0;34m(\u001b[0m\u001b[0mfile\u001b[0m\u001b[0;34m)\u001b[0m  \u001b[0;31m# @UndefinedVariable\u001b[0m\u001b[0;34m\u001b[0m\u001b[0;34m\u001b[0m\u001b[0m\n\u001b[0m\u001b[1;32m     15\u001b[0m     \u001b[0;32melse\u001b[0m\u001b[0;34m:\u001b[0m\u001b[0;34m\u001b[0m\u001b[0;34m\u001b[0m\u001b[0m\n\u001b[1;32m     16\u001b[0m         \u001b[0;31m# version 3.0 or 3.1\u001b[0m\u001b[0;34m\u001b[0m\u001b[0;34m\u001b[0m\u001b[0;34m\u001b[0m\u001b[0m\n",
            "\u001b[0;32m/usr/lib/python3.7/tokenize.py\u001b[0m in \u001b[0;36mopen\u001b[0;34m(filename)\u001b[0m\n\u001b[1;32m    445\u001b[0m     \u001b[0mdetect_encoding\u001b[0m\u001b[0;34m(\u001b[0m\u001b[0;34m)\u001b[0m\u001b[0;34m.\u001b[0m\u001b[0;34m\u001b[0m\u001b[0;34m\u001b[0m\u001b[0m\n\u001b[1;32m    446\u001b[0m     \"\"\"\n\u001b[0;32m--> 447\u001b[0;31m     \u001b[0mbuffer\u001b[0m \u001b[0;34m=\u001b[0m \u001b[0m_builtin_open\u001b[0m\u001b[0;34m(\u001b[0m\u001b[0mfilename\u001b[0m\u001b[0;34m,\u001b[0m \u001b[0;34m'rb'\u001b[0m\u001b[0;34m)\u001b[0m\u001b[0;34m\u001b[0m\u001b[0;34m\u001b[0m\u001b[0m\n\u001b[0m\u001b[1;32m    448\u001b[0m     \u001b[0;32mtry\u001b[0m\u001b[0;34m:\u001b[0m\u001b[0;34m\u001b[0m\u001b[0;34m\u001b[0m\u001b[0m\n\u001b[1;32m    449\u001b[0m         \u001b[0mencoding\u001b[0m\u001b[0;34m,\u001b[0m \u001b[0mlines\u001b[0m \u001b[0;34m=\u001b[0m \u001b[0mdetect_encoding\u001b[0m\u001b[0;34m(\u001b[0m\u001b[0mbuffer\u001b[0m\u001b[0;34m.\u001b[0m\u001b[0mreadline\u001b[0m\u001b[0;34m)\u001b[0m\u001b[0;34m\u001b[0m\u001b[0;34m\u001b[0m\u001b[0m\n",
            "\u001b[0;31mFileNotFoundError\u001b[0m: [Errno 2] No such file or directory: 'kemenyGPU/v1.py'"
          ]
        }
      ]
    },
    {
      "cell_type": "code",
      "source": [
        "from numba import cuda\n",
        "import numpy as np\n",
        "import math\n",
        "import time\n",
        "import logging\n",
        "logging.getLogger().setLevel(logging.DEBUG)"
      ],
      "metadata": {
        "id": "c9uwv2IGVtxA"
      },
      "execution_count": null,
      "outputs": []
    },
    {
      "cell_type": "code",
      "source": [
        "om = om12\n",
        "n = 12\n",
        "m = 10"
      ],
      "metadata": {
        "id": "HXf_yWFDXl8X"
      },
      "execution_count": null,
      "outputs": []
    },
    {
      "cell_type": "code",
      "source": [
        "stride = 4000000\n",
        "\n",
        "# create an array of dimension stride x n (initially empty)\n",
        "# to store the rankings and factorial representations\n",
        "d_factoradic = cuda.device_array((stride,n), dtype=np.uint8)\n",
        "\n",
        "# to store the boolean and factorial representations\n",
        "d_alternatives = cuda.device_array((stride,n), dtype=np.bool_)\n",
        "\n",
        "threadsperblock = 256\n",
        "blockspergrid = math.ceil(stride / threadsperblock)\n",
        "logging.debug(\"threadsperblock = {}, blockspergrid = {}, total = {}\".format(threadsperblock, blockspergrid, threadsperblock*blockspergrid))\n",
        "\n",
        "# array of one position to store the best distance\n",
        "best_dist = np.array([(n*n-n)/2]) # initiallize with upper bound\n",
        "# move the value to the gpu\n",
        "d_best_dist = cuda.to_device(best_dist)\n",
        "# move the value to the gpu\n",
        "best_ranking = np.array([0], dtype=np.uint64) \n",
        "d_best_ranking = cuda.to_device(best_ranking)\n",
        "# single = False\n",
        "total = math.factorial(n)\n",
        "\n",
        "start = time.time()\n",
        "distance_from_ranking_to_profile_gpu[blockspergrid, threadsperblock](d_factoradic, d_alternatives, om, stride, total, d_best_dist, d_best_ranking)\n",
        "d_best_dist.copy_to_host(best_dist)\n",
        "d_best_ranking.copy_to_host(best_ranking)\n",
        "end = time.time()\n",
        "\n",
        "\n",
        "logging.info(\"Execution time: {}\".format(end-start))\n",
        "logging.info(best_dist)\n",
        "logging.info(best_ranking)"
      ],
      "metadata": {
        "id": "LpUHb7NCVlfL"
      },
      "execution_count": null,
      "outputs": []
    }
  ]
}