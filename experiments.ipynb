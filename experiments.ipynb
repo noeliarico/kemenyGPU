{
  "nbformat": 4,
  "nbformat_minor": 0,
  "metadata": {
    "colab": {
      "provenance": []
    },
    "kernelspec": {
      "name": "python3",
      "display_name": "Python 3"
    },
    "language_info": {
      "name": "python"
    }
  },
  "cells": [
    {
      "cell_type": "code",
      "execution_count": null,
      "metadata": {
        "colab": {
          "base_uri": "https://localhost:8080/"
        },
        "id": "ejf2Ho0rryun",
        "outputId": "d76a015c-2af4-430f-abfc-1b4f95297b7c"
      },
      "outputs": [
        {
          "output_type": "stream",
          "name": "stdout",
          "text": [
            "First print eyy\n"
          ]
        }
      ],
      "source": [
        "print(\"First print eyy\")"
      ]
    },
    {
      "cell_type": "code",
      "source": [
        "print(\"Hi from Google Colab\")"
      ],
      "metadata": {
        "id": "WwhA8y46sOgx",
        "outputId": "11ff8b8b-b928-4ffa-ec8b-b2a43dee902c",
        "colab": {
          "base_uri": "https://localhost:8080/"
        }
      },
      "execution_count": 1,
      "outputs": [
        {
          "output_type": "stream",
          "name": "stdout",
          "text": [
            "Hi from Google Colab\n"
          ]
        }
      ]
    }
  ]
}