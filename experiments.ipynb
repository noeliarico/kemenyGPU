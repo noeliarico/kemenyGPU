{
  "nbformat": 4,
  "nbformat_minor": 0,
  "metadata": {
    "colab": {
      "provenance": []
    },
    "kernelspec": {
      "name": "python3",
      "display_name": "Python 3"
    },
    "language_info": {
      "name": "python"
    }
  },
  "cells": [
    {
      "cell_type": "code",
      "execution_count": 1,
      "metadata": {
        "colab": {
          "base_uri": "https://localhost:8080/"
        },
        "id": "ejf2Ho0rryun",
        "outputId": "d76a015c-2af4-430f-abfc-1b4f95297b7c"
      },
      "outputs": [
        {
          "output_type": "stream",
          "name": "stdout",
          "text": [
            "First print eyy\n"
          ]
        }
      ],
      "source": [
        "print(\"First print eyy\")"
      ]
    }
  ]
}